{
 "metadata": {
  "kernelspec": {
   "display_name": "Streamlit Notebook",
   "name": "streamlit"
  },
  "lastEditStatus": {
   "notebookId": "x3rsk3vchk6ddiiyemaq",
   "authorId": "1988849247452",
   "authorName": "DEMO_RNEMANI",
   "authorEmail": "ravi.nemani@snowflake.com",
   "sessionId": "dd5ebc3e-1fc1-4929-9451-daf411b54fc5",
   "lastEditTime": 1750703311680
  }
 },
 "nbformat_minor": 5,
 "nbformat": 4,
 "cells": [
  {
   "cell_type": "markdown",
   "id": "2e2c19b4-04b4-4aa5-af99-a96ba1088498",
   "metadata": {
    "name": "SetupOverview",
    "collapsed": false
   },
   "source": "### :snowflake: College of AI: Data Agent HOL Snowflake Setup Guide :snowflake:\n\nThis notebook will provision the roles, service user, compute resources, and structured data needed to complete the Data Agent hands-on lab using Snowflake Cortex Analyst, Search and Agents.\n\n🧪 **HOL Setup Overview**\n- Establish a **dedicated service user** (`dataagent_user`) to run Cortex workloads\n- Provide a **custom warehouse and database** (`AICOLLEGE`) for isolation\n- Create a **stage** (`TRANSCRIPTS`) for uploading transcripts and semantic YAML for analyst use\n- Grant **read and compute privileges** to your `AICOLLEGE` role\n- Enable **cross-region Cortex inference** (required for many Cortex features)\n- Generate a **PAT** and configure **key-pair authentication** for secure service access via **Slack**\n- Load **mock customer data** into tables used by Cortex Analyst:\n    - `CUSTOMER_MEETINGS`\n    - `CUSTOMER_MEETING_OUTCOMES`\n    - `CUSTOMER_INTERACTIONS`\n    - `CUSTOMER_INDUSTRY`\n-Create a unified view called `CUSTOMER_INSIGHTS` that merges meetings and interactions into a single analytics layer\n\n🔧 **Required Manual Updates**\nBefore running the full notebook, make sure to update the following cells:\n\n|🔢 Step|🔄 What to Update|📌 Notes|\n|-------|-----------------|--------|\n|SQL_2|`<YOUR_USERNAME>`|Replace with your Snowflake login username to give yourself access to the AICOLLEGE role\n|SQL_4|Copy PAT Token|After generating the PAT, immediately copy the token shown in the message box — it cannot be retrieved later\n|SQL_5|RSA_PUBLIC_KEY|Paste your RSA public key used for key-pair authentication"
  },
  {
   "cell_type": "code",
   "id": "1c86dbb2-b48a-4b1a-8971-e615ffd8b04c",
   "metadata": {
    "language": "python",
    "name": "Imports"
   },
   "outputs": [],
   "source": "import streamlit as st\nimport pandas as pd\nfrom snowflake.snowpark.context import get_active_session\nsession = get_active_session()",
   "execution_count": null
  },
  {
   "cell_type": "code",
   "id": "3775908f-ca36-4846-8f38-5adca39217f2",
   "metadata": {
    "language": "sql",
    "name": "SQL_1"
   },
   "source": "-- Create a dedicated role & service user\nUSE ROLE ACCOUNTADMIN;\n\nCREATE ROLE IF NOT EXISTS aicollege;\n\nCREATE OR REPLACE USER dataagent_user\n  TYPE = SERVICE\n  DEFAULT_ROLE = aicollege\n  COMMENT = 'Service user for Data Agent HOL';\n\nGRANT ROLE aicollege TO USER dataagent_user;",
   "execution_count": null,
   "outputs": []
  },
  {
   "cell_type": "code",
   "id": "cf1773ca-067f-4eec-80ce-afeb2420a42d",
   "metadata": {
    "language": "sql",
    "name": "SQL_2"
   },
   "outputs": [],
   "source": "-- also grant yourself so you can inspect\nGRANT ROLE aicollege TO USER demo_rnemani;",
   "execution_count": null
  },
  {
   "cell_type": "code",
   "id": "c695373e-ac74-4b62-a1f1-08206cbd5c81",
   "metadata": {
    "language": "sql",
    "name": "SQL_3"
   },
   "source": "-- Create database & warehouse\nCREATE DATABASE IF NOT EXISTS aicollege;\n\nCREATE WAREHOUSE IF NOT EXISTS aicollege\n  WITH WAREHOUSE_SIZE = 'XSMALL'\n  AUTO_SUSPEND = 300\n  AUTO_RESUME = TRUE;\n\n-- Create AICOLLEGE.PUBLIC.TRANSCRIPTS stage to transcripts and semantic yaml file\nCREATE OR REPLACE STAGE AICOLLEGE.PUBLIC.TRANSCRIPTS\n    DIRECTORY = ( ENABLE = true )\n    ENCRYPTION = ( TYPE = 'SNOWFLAKE_SSE' );\n\n-- Grant privileges to the AICOLLEGE role\nGRANT USAGE, OPERATE ON WAREHOUSE aicollege TO ROLE aicollege;\nGRANT ALL ON DATABASE aicollege TO ROLE aicollege;\nGRANT ALL ON SCHEMA aicollege.public TO ROLE aicollege;\nGRANT CREATE STAGE ON SCHEMA aicollege.public TO ROLE aicollege;\nGRANT SELECT ON FUTURE TABLES IN SCHEMA aicollege.public TO ROLE aicollege;\nGRANT SELECT ON FUTURE VIEWS  IN SCHEMA aicollege.public TO ROLE aicollege;\nGRANT READ ON STAGE AICOLLEGE.PUBLIC.TRANSCRIPTS TO ROLE aicollege;\nGRANT DATABASE ROLE SNOWFLAKE.CORTEX_USER TO ROLE aicollege;\n\n-- Grant usage on existing DORA integration and utility database\nGRANT USAGE ON INTEGRATION dora_api_integration TO ROLE aicollege;\nGRANT USAGE ON DATABASE util_db TO ROLE aicollege;\nGRANT USAGE ON SCHEMA util_db.public TO ROLE aicollege;\n\n-- Grant usage on DORA external functions\nGRANT USAGE ON FUNCTION util_db.public.se_grader(VARCHAR,BOOLEAN,INTEGER,INTEGER,VARCHAR) TO ROLE aicollege;\nGRANT USAGE ON FUNCTION util_db.public.se_greeting(VARCHAR,VARCHAR,VARCHAR,VARCHAR) TO ROLE aicollege;\n\n-- Enable cross-region Cortex inference\nALTER ACCOUNT SET CORTEX_ENABLED_CROSS_REGION = 'AWS_US';",
   "execution_count": null,
   "outputs": []
  },
  {
   "cell_type": "code",
   "id": "1062da5d-4bbf-4842-916f-a14655b5a4b0",
   "metadata": {
    "language": "sql",
    "name": "SQL_4"
   },
   "outputs": [],
   "source": "-- 🔐 Create a PAT (Programmatic Access Token) for Cortex Analyst calls\nALTER USER dataagent_user\n  ADD PROGRAMMATIC ACCESS TOKEN AGENT_TOKEN\n    ROLE_RESTRICTION = 'AICOLLEGE'\n    DAYS_TO_EXPIRY    = 30\n    COMMENT           = 'PAT for Data Agent HOL';\n\n-- ⚠️ IMPORTANT: Immediately copy or download the token shown in the message box.\n-- This is the ONLY time Snowflake will display it.\n-- ❗ If you close the dialog or lose it, you will need to delete and regenerate the token.",
   "execution_count": null
  },
  {
   "cell_type": "markdown",
   "id": "e7196131-71a1-4550-8809-eb94f40eb0cb",
   "metadata": {
    "name": "Reminder",
    "collapsed": false
   },
   "source": "#### 🛑 Don't Skip This!\nWhen the token is generated, **copy it immediately** and store it in a secure location like a password manager or secret store (e.g., AWS Secrets Manager, 1Password, etc.).\nYou’ll need this token to authenticate your Cortex Analyst calls using the dataagent_user.\n\nIf you forget to copy it:\n```sql\n-- Remove and reissue the token if needed\nALTER USER dataagent_user DROP PROGRAMMATIC ACCESS TOKEN AGENT_TOKEN;\n-- Then re-run the ADD PROGRAMMATIC ACCESS TOKEN command\n```"
  },
  {
   "cell_type": "code",
   "id": "ddcfdb8e-dd86-4f3a-a35f-05d0703216a5",
   "metadata": {
    "language": "sql",
    "name": "SQL_5"
   },
   "outputs": [],
   "source": "-- 🔐 Create key-pair for authenticating your Python process with Snowflake\n\n-- ⚠️ NOTE:\n-- You must copy and paste your PUBLIC key into the command below.\n-- 👉 The value must include:\n--    1️⃣ The line -----BEGIN PUBLIC KEY----- on its own row\n--    2️⃣ Your full public key on ONE SINGLE line — no line breaks or spaces\n--    3️⃣ The line -----END PUBLIC KEY----- on its own row\n\n-- Replace the 'MIIBIj...' below with your actual public key (keep it as one continuous line)\nALTER USER dataagent_user SET RSA_PUBLIC_KEY='-----BEGIN PUBLIC KEY-----\nMIIBIjANBgkqhkiG9w0BAQEFAAOCAQ8AMIIBCgKCAQEA6bQCXgcP/iOkesoUagPk\nUVw3rm5gSVdBldvRGP4LiyDkhRKIRohPmXbTOWV9c4EvHU9mzg55Q3XxVKZ80fJs\nB0L0jU+tjYuHE5p2Lon6cXi2WIxqdgHCxZVa2aE+DrV2P73Tc59MgmdrsU6WpWRR\nGWgpp0yUtg6JeaaVlCMdSvU0EofWUm3vODQ2eg7V74x8zO4Jbi3ivSx7+bgZDF6q\n1exaOXCZ8GMWIUfeDnDK32wfZZMlXUfxfx9/poTGCB4a51XORx6MuuYOAHvzpbvX\ndlMDHsf+J4W3wqihRXtkLodNVfn6N67uypvmRUqy/RD+Yuvr3z29HxlNFMHjtrrO\nWQIDAQAB\n-----END PUBLIC KEY-----';\n\n-- 📌 Tip: When pasting this into a Snowflake SQL worksheet, ensure the full public key block is preserved exactly as described.\n-- Do NOT break the key across multiple lines or insert whitespace — doing so will invalidate the key.",
   "execution_count": null
  },
  {
   "cell_type": "code",
   "id": "b5e851fa-99d3-4f5c-9887-d82897454170",
   "metadata": {
    "language": "sql",
    "name": "SQL_6"
   },
   "outputs": [],
   "source": "-- Create Structured Data for Cortex Analyst\nUSE ROLE AICOLLEGE;\nUSE DATABASE AICOLLEGE;\nUSE SCHEMA PUBLIC;\nUSE WAREHOUSE AICOLLEGE;\n\n-- Create a Customer Meetings Table to track customer meetings, topics discussed, and which Snowflake features were covered. Each meeting links to a customer.\nCREATE OR REPLACE TABLE CUSTOMER_MEETINGS (\n    MEETING_ID STRING PRIMARY KEY, \n    CUSTOMER_NAME STRING,      \n    MEETING_DATE DATE,         \n    TOPIC STRING,              \n    SNOWFLAKE_FEATURE STRING,  \n    MEETING_TYPE STRING,      \n    MEETING_DURATION INT,      \n    CUSTOMER_SIZE STRING,      \n    REGION STRING\n);\n\nINSERT INTO CUSTOMER_MEETINGS (\n    MEETING_ID, CUSTOMER_NAME, MEETING_DATE, TOPIC, SNOWFLAKE_FEATURE,\n    MEETING_TYPE, MEETING_DURATION, CUSTOMER_SIZE, REGION\n) VALUES\n    /* Acme Corp – audit‑season scaling & autoscaling demo */\n    ('M1', 'Acme Corp',        '2025-03-10', 'Audit‑Season Scaling',           'Warehouse Autoscaling',\n     'Sales', 30, 'Large',  'North America'),\n\n    /* BetaTech – marketing analytics framework with Snowpark */\n    ('M2', 'BetaTech',         '2025-03-12', 'Marketing Analytics',            'Snowpark',\n     'Technical Review', 60, 'Medium', 'Europe'),\n\n    /* Gamma LLC – revenue data integration using Document AI */\n    ('M3', 'Gamma LLC',        '2025-03-15', 'Revenue Data Integration',       'Document AI',\n     'Demo', 45, 'Small',  'Asia'),\n\n    /* Omega Industries – supply‑chain optimization pilot */\n    ('M4', 'Omega Industries', '2025-03-17', 'Supply‑Chain Optimization',      'Snowpipe Streaming',\n     'Sales', 90, 'Large',  'North America'),\n\n    /* Delta Enterprises – secure Snowpark notebooks framework */\n    ('M5', 'Delta Enterprises','2025-03-20', 'Marketing Analytics Framework',  'Snowflake Notebooks',\n     'Sales', 30, 'Medium', 'Europe'),\n\n    /* Zeta Solutions – natural‑language analytics with Cortex AI */\n    ('M6', 'Zeta Solutions',   '2025-04-01', 'Natural‑Language Analytics',     'Cortex AI NLQ',\n     'Technical Review', 50, 'Small',  'North America');\n\n-- Create a Customer Meeting Outcomes Table to tracks the outcome of each meeting (e.g., demo scheduled, deal won, follow-up needed).\nCREATE OR REPLACE TABLE CUSTOMER_MEETING_OUTCOMES (\n    MEETING_ID STRING PRIMARY KEY,           \n    OUTCOME STRING,              \n    FOLLOW_UP_DATE DATE,         \n    DEAL_VALUE DECIMAL(15,2),    \n    CUSTOMER_FEEDBACK STRING,    \n    ACTION_REQUIRED STRING      \n);\n\nINSERT INTO CUSTOMER_MEETING_OUTCOMES VALUES\n('M1', 'Demo Scheduled', '2025-03-25', 50000.00, 'Positive', 'Schedule follow-up call'),\n('M2', 'POC Planned', '2025-03-22', 0.00, 'Positive', 'Provide architecture deck and Snowpark code samples'),\n('M3', 'Follow-up Needed', '2025-04-01', 0.00, 'Neutral', 'Send technical demo'),\n('M4', 'Demo Scheduled', '2025-03-22', 75000.00, 'Positive', 'Schedule follow-up call'),\n('M5', 'POC Planned', '2025-04-05', 0.00, 'Positive', 'Send pilot charter, sample dataset requirements, security checklist'),\n('M6', 'Demo Scheduled', '2025-04-15', 0.00, 'Positive', 'Deliver high‑level Cortex demo and quick‑start ROI outline');\n\n-- Create a Customer Interactions Table to track other interactions with customers, such as support tickets or email communications.\nCREATE OR REPLACE TABLE CUSTOMER_INTERACTIONS (\n    INTERACTION_ID STRING PRIMARY KEY,       \n    CUSTOMER_NAME STRING,       \n    INTERACTION_TYPE STRING,     \n    FEATURE_DISCUSSED STRING,    \n    DATE DATE,                  \n    RESOLUTION_STATUS STRING,   \n    INTERACTION_DETAIL STRING    \n);\n\nINSERT INTO CUSTOMER_INTERACTIONS (\n    INTERACTION_ID, CUSTOMER_NAME, INTERACTION_TYPE, FEATURE_DISCUSSED,\n    DATE, RESOLUTION_STATUS, INTERACTION_DETAIL\n) VALUES\n    /* Acme Corp – audit‑busy‑season scaling question */\n    ('I1', 'Acme Corp',        'Support Ticket', 'Warehouse Autoscaling',   '2025-03-05',\n     'Resolved', 'Provided guidance on multi‑cluster scaling during audit busy season'),\n\n    /* BetaTech – Snowpark ingestion for marketing analytics (matches BetaTech use case) */\n    ('I2', 'BetaTech',         'Email',          'Snowpark',                '2025-03-07',\n     'Pending',  'Requested code samples for Snowpark ingestion and model deployment'),\n\n    /* Gamma LLC – PDF/image ingestion for revenue reports (Document AI) */\n    ('I3', 'Gamma LLC',        'Phone Call',     'Document AI',             '2025-03-09',\n     'Resolved', 'Clarified how Document AI extracts tables from partner PDF revenue files'),\n\n    /* Omega Industries – multi‑ERP supply‑chain pilot (Snowpipe & Snowpark) */\n    ('I4', 'Omega Industries', 'Support Ticket', 'Snowpipe Streaming',      '2025-03-12',\n     'Resolved', 'Helped configure Snowpipe Streaming for SAP ECC change‑data capture'),\n\n    /* Delta Enterprises – secure Snowpark notebooks framework */\n    ('I5', 'Delta Enterprises','Meeting',        'Snowflake Notebooks',     '2025-03-16',\n     'Pending',  'Scheduled workshop on migrating Jupyter notebooks into Snowflake'),\n\n    /* Zeta Solutions – Cortex AI natural‑language querying demo */\n    ('I6', 'Zeta Solutions',   'Email',          'Cortex AI NLQ',           '2025-04-03',\n     'Pending',  'Customer asked for NLQ demo assets and quick‑start guide');\n\n-- Create a Customer Industry Table to classify customers by industry (e.g., healthcare, retail, etc.), helping to analyze feature adoption trends across industries.\nCREATE OR REPLACE TABLE CUSTOMER_INDUSTRY (\n    CUSTOMER_NAME STRING PRIMARY KEY,         \n    INDUSTRY STRING,             \n    CUSTOMER_SIZE STRING,        \n    REGION STRING                \n);\n\nINSERT INTO CUSTOMER_INDUSTRY (CUSTOMER_NAME, INDUSTRY, CUSTOMER_SIZE, REGION) VALUES\n    ('Acme Corp',        'Professional Services',   'Large',  'North America'),\n    ('BetaTech',         'IT Services',             'Medium', 'Europe'),\n    ('Gamma LLC',        'Sports Technology',       'Small',  'Asia'),\n    ('Omega Industries', 'Industrial Engineering',  'Large',  'North America'),\n    ('Delta Enterprises','Consumer Electronics',    'Medium', 'Europe'),\n    ('Zeta Solutions',   'Real Estate Technology',  'Small',  'North America');\n\n-- Create a unified view called CUSTOMER_INSIGHTS that merges meetings and interactions into a single analytics layer\nCREATE OR REPLACE VIEW CUSTOMER_INSIGHTS\nAS (\n    -- Core customer meeting details\n    SELECT \n        cm.MEETING_ID,\n        cm.CUSTOMER_NAME,\n        cm.MEETING_DATE,\n        cm.TOPIC,\n        cm.SNOWFLAKE_FEATURE,\n        cm.MEETING_TYPE,\n        cmo.OUTCOME,\n        cmo.DEAL_VALUE,\n        cmo.CUSTOMER_FEEDBACK,\n        ci.INDUSTRY,\n        ci.REGION\n    FROM CUSTOMER_MEETINGS cm\n    LEFT JOIN CUSTOMER_MEETING_OUTCOMES cmo ON cm.MEETING_ID = cmo.MEETING_ID\n    LEFT JOIN CUSTOMER_INDUSTRY ci ON cm.CUSTOMER_NAME = ci.CUSTOMER_NAME\n\n    UNION ALL\n\n    -- Customer interactions analysis\n    SELECT \n        ci.INTERACTION_ID as MEETING_ID,\n        ci.CUSTOMER_NAME,\n        ci.DATE as MEETING_DATE,\n        ci.INTERACTION_DETAIL as TOPIC,\n        ci.FEATURE_DISCUSSED as SNOWFLAKE_FEATURE,\n        ci.INTERACTION_TYPE as MEETING_TYPE,\n        ci.RESOLUTION_STATUS as OUTCOME,\n        NULL as DEAL_VALUE,\n        NULL as CUSTOMER_FEEDBACK,\n        ind.INDUSTRY,\n        ind.REGION\n    FROM CUSTOMER_INTERACTIONS ci\n    LEFT JOIN CUSTOMER_INDUSTRY ind ON ci.CUSTOMER_NAME = ind.CUSTOMER_NAME\n);\n\n-- Validate CUSTOMER_INSIGHTS view\nSELECT * FROM CUSTOMER_INSIGHTS LIMIT 5;",
   "execution_count": null
  },
  {
   "cell_type": "markdown",
   "id": "1227f740-219c-4405-b82c-5ae2e87eb082",
   "metadata": {
    "name": "SnowflakeIntelligence",
    "collapsed": false
   },
   "source": "### Optional — Snowflake Intelligence Prerequisites  \n*(Run the SQL in the next cells **after Phase 3**.)*\n\nSnowflake Intelligence launches with your user’s **default role** and **default warehouse**.  \nThe preview also needs a small set of **metadata objects** to store agent definitions.\n\n| What you set up | Why it matters |\n|-----------------|----------------|\n| **Default role & warehouse** (`AICOLLEGE`) | SI starts under the defaults; if they don’t own your semantic views or search service the UI just spins. |\n| **`SNOWFLAKE_INTELLIGENCE` database** | Holds a `TEMP` schema (file uploads) and a `CONFIG` schema for agent metadata. |\n| **`AGENTS` schema & `CONFIG` table** | Stores each agent’s name, tools, and visibility. A row-access policy filters rows by role. |\n\n**Quick path**\n\n1. Set your default role to **`AICOLLEGE`** and default warehouse to **`AICOLLEGE`**.  \n2. Run the *metadata-DB* script.  \n3. Run the *agent-config* script."
  },
  {
   "cell_type": "code",
   "id": "894b5678-3080-40f6-87d9-14753bb664db",
   "metadata": {
    "language": "sql",
    "name": "SI_SetUserDefaults"
   },
   "outputs": [],
   "source": "USE ROLE ACCOUNTADMIN;\nALTER USER demo_rnemani \n    SET DEFAULT_ROLE = AICOLLEGE, \n        DEFAULT_WAREHOUSE = AICOLLEGE;",
   "execution_count": null
  },
  {
   "cell_type": "markdown",
   "id": "3396c75d-073f-41ea-b999-b54cdf956eb6",
   "metadata": {
    "name": "SI_MetadataObjects",
    "collapsed": false
   },
   "source": "### Snowflake Intelligence — Metadata Setup  \n\nThe preview needs a small metadata DB so agents have somewhere to keep their config.\n\n**What you need**\n\n* Database called **`SNOWFLAKE_INTELLIGENCE`**  \n* Default role **`AICOLLEGE`** (owns everything)  \n* Grants for SI users:  \n  * `SELECT` on the config tables  \n  * `USAGE` on the `TEMP` schema  \n  * Access to your Cortex Search Service & any data the agent shows\n\nRun the next SQL to create the DB, `TEMP` schema, and a `CONFIG` schema.  \n*(Future builds will do this for you.)*"
  },
  {
   "cell_type": "code",
   "id": "0db6df88-54aa-4dab-88f0-ed921d69be10",
   "metadata": {
    "language": "sql",
    "name": "SI_MetadataSetup"
   },
   "outputs": [],
   "source": "-- Create a database. This will hold configuration and other objects to support Snowflake Intelligence.\nCREATE DATABASE SNOWFLAKE_INTELLIGENCE;\nGRANT OWNERSHIP ON DATABASE SNOWFLAKE_INTELLIGENCE TO ROLE AICOLLEGE;\n\n-- Set up stages and tables for configuration.\nUSE ROLE AICOLLEGE;\nUSE DATABASE SNOWFLAKE_INTELLIGENCE;\n\n-- Set up a temp schema for file upload (only temporary stages will be created here).\nCREATE OR REPLACE SCHEMA SNOWFLAKE_INTELLIGENCE.TEMP;\nGRANT USAGE ON SCHEMA SNOWFLAKE_INTELLIGENCE.TEMP TO ROLE PUBLIC;\n\n-- OPTIONAL: Set up stages and tables for configuration - you can have your semantic models be anywhere else, just make sure that the users have grants to them\nCREATE SCHEMA IF NOT EXISTS CONFIG;\nGRANT USAGE ON SCHEMA CONFIG TO ROLE AICOLLEGE;\nUSE SCHEMA CONFIG;",
   "execution_count": null
  },
  {
   "cell_type": "markdown",
   "id": "14de663d-992f-4225-9c00-f2c080dced62",
   "metadata": {
    "name": "SI_Agent",
    "collapsed": false
   },
   "source": "### Optional – Agent Metadata Setup  \n\nThe preview stores each agent’s config in a user-managed schema.  \nThe SQL below will:\n\n* create **`SNOWFLAKE_INTELLIGENCE.AGENTS`**  \n* add a row-access policy (`AGENT_POLICY`) filtered by `GRANTEE_ROLES`  \n* build `AGENTS.CONFIG` (name, tools, sample Qs, etc.)  \n* grant **SELECT** to `PUBLIC`, **UPDATE** to `AICOLLEGE`\n\n*(A future release will auto-store agent metadata; for now a dedicated schema lets you secure—or remove—it whenever you like.)*"
  },
  {
   "cell_type": "code",
   "id": "ad0123a9-b82e-4f18-b083-c9df78f106f9",
   "metadata": {
    "language": "sql",
    "name": "SI_AgentConfiguration"
   },
   "outputs": [],
   "source": "USE ROLE AICOLLEGE;\n\nCREATE SCHEMA IF NOT EXISTS SNOWFLAKE_INTELLIGENCE.AGENTS;\n\n-- Make SI agents in general discoverable to everyone.\nGRANT USAGE ON SCHEMA SNOWFLAKE_INTELLIGENCE.AGENTS TO ROLE PUBLIC;\n\nCREATE OR REPLACE ROW ACCESS POLICY SNOWFLAKE_INTELLIGENCE.AGENTS.AGENT_POLICY\nAS (GRANTEE_ROLES ARRAY)\nRETURNS BOOLEAN ->\n  ARRAY_SIZE(\n    FILTER(\n      GRANTEE_ROLES::ARRAY(VARCHAR),\n      ROLE -> IS_ROLE_IN_SESSION(ROLE)\n    )\n  ) <> 0;\n\n-- Create an agent config table. Multiple tables can be created to give granular\n-- UPDATE/INSERT permissions to different roles.\nCREATE OR REPLACE TABLE SNOWFLAKE_INTELLIGENCE.AGENTS.CONFIG (\n    AGENT_NAME            VARCHAR NOT NULL,\n    AGENT_DESCRIPTION     VARCHAR,\n    GRANTEE_ROLES         ARRAY NOT NULL,\n    TOOLS                 ARRAY,\n    TOOL_RESOURCES        OBJECT,\n    TOOL_CHOICE           OBJECT,\n    RESPONSE_INSTRUCTION  VARCHAR,\n    SAMPLE_QUESTIONS      ARRAY,\n    CONSTRAINT PK_AGENT_NAME PRIMARY KEY (AGENT_NAME)\n)\nWITH ROW ACCESS POLICY SNOWFLAKE_INTELLIGENCE.AGENTS.AGENT_POLICY\nON (GRANTEE_ROLES);\n\nGRANT SELECT ON TABLE SNOWFLAKE_INTELLIGENCE.AGENTS.CONFIG TO ROLE PUBLIC;\nGRANT UPDATE ON TABLE SNOWFLAKE_INTELLIGENCE.AGENTS.CONFIG TO ROLE AICOLLEGE;",
   "execution_count": null
  },
  {
   "cell_type": "markdown",
   "id": "0923dcdd-c350-43ce-93e3-25484e2a050e",
   "metadata": {
    "name": "SI_NextSteps",
    "collapsed": false
   },
   "source": "#### Quick sanity check\n1. **Sign out, then back in** so Snowsight reloads your defaults.  \n2. In **Admin ▸ Profile** verify **Role = `AICOLLEGE`** and **Warehouse = `AICOLLEGE`**.  \n3. Launch **AI & ML ▸ Snowflake Intelligence** → you should land on the workspace picker (no endless spinner)."
  }
 ]
}